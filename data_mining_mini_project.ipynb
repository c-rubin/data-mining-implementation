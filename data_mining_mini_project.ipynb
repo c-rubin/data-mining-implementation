{
  "nbformat": 4,
  "nbformat_minor": 0,
  "metadata": {
    "colab": {
      "provenance": []
    },
    "kernelspec": {
      "name": "python3",
      "display_name": "Python 3"
    },
    "language_info": {
      "name": "python"
    }
  },
  "cells": [
    {
      "cell_type": "markdown",
      "source": [
        "#CEN 376 - Data Mining Project\n",
        "In this implementation, we will be classifying credit cards from creditcard.csv.\n",
        "\n",
        "We will first initialize our program, by loading the data into a dataframe (using Pandas) and split the data into training and testing sets.\n",
        "\n",
        "We will then train classifiers using six different techniques: Random Forest Classifier, Multi-layer Perceptron (MLP) Classifier, Gradient Boosting Classifier, Ada Boost Classifier, Linear Discriminant Analysis Classifier and Quadratic Discriminant Analysis Classifier.\n",
        "\n",
        "We will also print the confusion matrix, classification report and accoracy score for each classification that we've made.\n",
        "\n",
        "---\n",
        "\n",
        "Topic: Data mining applications in finance "
      ],
      "metadata": {
        "id": "fcaCC0S7J4rO"
      }
    },
    {
      "cell_type": "code",
      "source": [
        "import pandas as pd\n",
        "from sklearn.model_selection import train_test_split\n",
        "from sklearn.metrics import accuracy_score, classification_report, confusion_matrix\n",
        "\n",
        "# load the data\n",
        "data = pd.read_csv('creditcard.csv')\n",
        "\n",
        "# split the data into training and testing sets\n",
        "X = data.drop(['Class'], axis=1)\n",
        "y = data['Class']\n",
        "X_train, X_test, y_train, y_test = train_test_split(X, y, test_size=0.3)"
      ],
      "metadata": {
        "id": "013zwWWZ7Dcu"
      },
      "execution_count": null,
      "outputs": []
    },
    {
      "cell_type": "code",
      "source": [
        "# train a random forest classifier\n",
        "from sklearn.ensemble import RandomForestClassifier\n",
        "\n",
        "classifier = RandomForestClassifier(n_estimators=10, max_depth=3)\n",
        "classifier.fit(X_train, y_train)\n",
        "# predict the target variable on the testing set\n",
        "y_pred = classifier.predict(X_test)\n",
        "# evaluate the performance of the model\n",
        "\n",
        "print('Confusion Matrix:')\n",
        "print(confusion_matrix(y_test, y_pred))\n",
        "print(\"Classification Report:\")\n",
        "print(classification_report(y_test, y_pred))\n",
        "print('Accuracy Score:')\n",
        "print(accuracy_score(y_test, y_pred))"
      ],
      "metadata": {
        "colab": {
          "base_uri": "https://localhost:8080/"
        },
        "id": "w4THaEU5GFSK",
        "outputId": "0bb72822-43e3-4bcd-afaa-fe149dfe4d84"
      },
      "execution_count": null,
      "outputs": [
        {
          "output_type": "stream",
          "name": "stdout",
          "text": [
            "Confusion Matrix:\n",
            "[[85283    12]\n",
            " [   47   101]]\n",
            "Classification Report:\n",
            "              precision    recall  f1-score   support\n",
            "\n",
            "           0       1.00      1.00      1.00     85295\n",
            "           1       0.89      0.68      0.77       148\n",
            "\n",
            "    accuracy                           1.00     85443\n",
            "   macro avg       0.95      0.84      0.89     85443\n",
            "weighted avg       1.00      1.00      1.00     85443\n",
            "\n",
            "Accuracy Score:\n",
            "0.9993094811745842\n"
          ]
        }
      ]
    },
    {
      "cell_type": "code",
      "source": [
        "# train an MLP classifier\n",
        "from sklearn.neural_network import MLPClassifier\n",
        "\n",
        "classifier = MLPClassifier(hidden_layer_sizes=(10, 5), max_iter=1000)\n",
        "classifier.fit(X_train, y_train)\n",
        "y_pred = classifier.predict(X_test)\n",
        "\n",
        "print('Confusion Matrix:')\n",
        "print(confusion_matrix(y_test, y_pred))\n",
        "print(\"Classification Report:\")\n",
        "print(classification_report(y_test, y_pred))\n",
        "print('Accuracy Score:')\n",
        "print(accuracy_score(y_test, y_pred))"
      ],
      "metadata": {
        "colab": {
          "base_uri": "https://localhost:8080/"
        },
        "id": "Osw82CuYGMKA",
        "outputId": "897e9512-0fc4-4f70-93e4-a63233f8072b"
      },
      "execution_count": null,
      "outputs": [
        {
          "output_type": "stream",
          "name": "stdout",
          "text": [
            "Confusion Matrix:\n",
            "[[85302     0]\n",
            " [  141     0]]\n",
            "Classification Report:\n",
            "              precision    recall  f1-score   support\n",
            "\n",
            "           0       1.00      1.00      1.00     85302\n",
            "           1       0.00      0.00      0.00       141\n",
            "\n",
            "    accuracy                           1.00     85443\n",
            "   macro avg       0.50      0.50      0.50     85443\n",
            "weighted avg       1.00      1.00      1.00     85443\n",
            "\n",
            "Accuracy Score:\n",
            "0.9983497770443454\n"
          ]
        },
        {
          "output_type": "stream",
          "name": "stderr",
          "text": [
            "/usr/local/lib/python3.8/dist-packages/sklearn/metrics/_classification.py:1318: UndefinedMetricWarning: Precision and F-score are ill-defined and being set to 0.0 in labels with no predicted samples. Use `zero_division` parameter to control this behavior.\n",
            "  _warn_prf(average, modifier, msg_start, len(result))\n",
            "/usr/local/lib/python3.8/dist-packages/sklearn/metrics/_classification.py:1318: UndefinedMetricWarning: Precision and F-score are ill-defined and being set to 0.0 in labels with no predicted samples. Use `zero_division` parameter to control this behavior.\n",
            "  _warn_prf(average, modifier, msg_start, len(result))\n",
            "/usr/local/lib/python3.8/dist-packages/sklearn/metrics/_classification.py:1318: UndefinedMetricWarning: Precision and F-score are ill-defined and being set to 0.0 in labels with no predicted samples. Use `zero_division` parameter to control this behavior.\n",
            "  _warn_prf(average, modifier, msg_start, len(result))\n"
          ]
        }
      ]
    },
    {
      "cell_type": "code",
      "source": [
        "# Gradient Boosting\n",
        "from sklearn.ensemble import GradientBoostingClassifier\n",
        "\n",
        "classifier = GradientBoostingClassifier(n_estimators=10, max_depth=3)\n",
        "classifier.fit(X_train, y_train)\n",
        "y_pred = classifier.predict(X_test)\n",
        "\n",
        "print('Confusion Matrix:')\n",
        "print(confusion_matrix(y_test, y_pred))\n",
        "print(\"Classification Report:\")\n",
        "print(classification_report(y_test, y_pred))\n",
        "print('Accuracy Score:')\n",
        "print(accuracy_score(y_test, y_pred))"
      ],
      "metadata": {
        "colab": {
          "base_uri": "https://localhost:8080/"
        },
        "id": "HXuym1dpGdGs",
        "outputId": "f2acbf29-13e1-493e-b163-90e75d920b62"
      },
      "execution_count": null,
      "outputs": [
        {
          "output_type": "stream",
          "name": "stdout",
          "text": [
            "Confusion Matrix:\n",
            "[[85288    16]\n",
            " [   66    73]]\n",
            "Classification Report:\n",
            "              precision    recall  f1-score   support\n",
            "\n",
            "           0       1.00      1.00      1.00     85304\n",
            "           1       0.82      0.53      0.64       139\n",
            "\n",
            "    accuracy                           1.00     85443\n",
            "   macro avg       0.91      0.76      0.82     85443\n",
            "weighted avg       1.00      1.00      1.00     85443\n",
            "\n",
            "Accuracy Score:\n",
            "0.9990402958697612\n"
          ]
        }
      ]
    },
    {
      "cell_type": "code",
      "source": [
        "# Ada Boost\n",
        "from sklearn.ensemble import AdaBoostClassifier\n",
        "\n",
        "classifier = AdaBoostClassifier(n_estimators=10)\n",
        "classifier.fit(X_train, y_train)\n",
        "y_pred = classifier.predict(X_test)\n",
        "\n",
        "print('Confusion Matrix:')\n",
        "print(confusion_matrix(y_test, y_pred))\n",
        "print(\"Classification Report:\")\n",
        "print(classification_report(y_test, y_pred))\n",
        "print('Accuracy Score:')\n",
        "print(accuracy_score(y_test, y_pred))"
      ],
      "metadata": {
        "colab": {
          "base_uri": "https://localhost:8080/"
        },
        "id": "XhHnNn4ZHcfg",
        "outputId": "1758fbc1-3e53-40a2-b171-f7d1951fc7f1"
      },
      "execution_count": null,
      "outputs": [
        {
          "output_type": "stream",
          "name": "stdout",
          "text": [
            "Confusion Matrix:\n",
            "[[85270    25]\n",
            " [   42   106]]\n",
            "Classification Report:\n",
            "              precision    recall  f1-score   support\n",
            "\n",
            "           0       1.00      1.00      1.00     85295\n",
            "           1       0.81      0.72      0.76       148\n",
            "\n",
            "    accuracy                           1.00     85443\n",
            "   macro avg       0.90      0.86      0.88     85443\n",
            "weighted avg       1.00      1.00      1.00     85443\n",
            "\n",
            "Accuracy Score:\n",
            "0.9992158515033414\n"
          ]
        }
      ]
    },
    {
      "cell_type": "code",
      "source": [
        "# Linear Discriminant Analysis\n",
        "\n",
        "from sklearn.discriminant_analysis import LinearDiscriminantAnalysis\n",
        "\n",
        "classifier = LinearDiscriminantAnalysis()\n",
        "classifier.fit(X_train, y_train)\n",
        "y_pred = classifier.predict(X_test)\n",
        "\n",
        "print('Confusion Matrix:')\n",
        "print(confusion_matrix(y_test, y_pred))\n",
        "print(\"Classification Report:\")\n",
        "print(classification_report(y_test, y_pred))\n",
        "print('Accuracy Score:')\n",
        "print(accuracy_score(y_test, y_pred))"
      ],
      "metadata": {
        "colab": {
          "base_uri": "https://localhost:8080/"
        },
        "id": "9VU1bb72IeeU",
        "outputId": "d3e87daa-70db-4390-d902-5b6b946cfebd"
      },
      "execution_count": null,
      "outputs": [
        {
          "output_type": "stream",
          "name": "stdout",
          "text": [
            "Confusion Matrix:\n",
            "[[85280    15]\n",
            " [   36   112]]\n",
            "Classification Report:\n",
            "              precision    recall  f1-score   support\n",
            "\n",
            "           0       1.00      1.00      1.00     85295\n",
            "           1       0.88      0.76      0.81       148\n",
            "\n",
            "    accuracy                           1.00     85443\n",
            "   macro avg       0.94      0.88      0.91     85443\n",
            "weighted avg       1.00      1.00      1.00     85443\n",
            "\n",
            "Accuracy Score:\n",
            "0.999403110845827\n"
          ]
        }
      ]
    },
    {
      "cell_type": "code",
      "source": [
        "# Quadratic Discriminant Analysis\n",
        "from sklearn.discriminant_analysis import QuadraticDiscriminantAnalysis\n",
        "\n",
        "classifier = QuadraticDiscriminantAnalysis()\n",
        "classifier.fit(X_train, y_train)\n",
        "y_pred = classifier.predict(X_test)\n",
        "\n",
        "print('Confusion Matrix:')\n",
        "print(confusion_matrix(y_test, y_pred))\n",
        "print(\"Classification Report:\")\n",
        "print(classification_report(y_test, y_pred))\n",
        "print('Accuracy Score:')\n",
        "print(accuracy_score(y_test, y_pred))"
      ],
      "metadata": {
        "colab": {
          "base_uri": "https://localhost:8080/"
        },
        "id": "GJ75PuGrHmsc",
        "outputId": "18bce5f0-708e-43c2-d008-0eb6cc6cd387"
      },
      "execution_count": null,
      "outputs": [
        {
          "output_type": "stream",
          "name": "stdout",
          "text": [
            "Confusion Matrix:\n",
            "[[83346  1949]\n",
            " [   19   129]]\n",
            "Classification Report:\n",
            "              precision    recall  f1-score   support\n",
            "\n",
            "           0       1.00      0.98      0.99     85295\n",
            "           1       0.06      0.87      0.12       148\n",
            "\n",
            "    accuracy                           0.98     85443\n",
            "   macro avg       0.53      0.92      0.55     85443\n",
            "weighted avg       1.00      0.98      0.99     85443\n",
            "\n",
            "Accuracy Score:\n",
            "0.9769671008742671\n"
          ]
        }
      ]
    }
  ]
}